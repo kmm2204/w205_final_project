{
 "cells": [
  {
   "cell_type": "code",
   "execution_count": 1,
   "metadata": {
    "collapsed": true
   },
   "outputs": [],
   "source": [
    "import pandas as pd"
   ]
  },
  {
   "cell_type": "code",
   "execution_count": 2,
   "metadata": {
    "collapsed": false
   },
   "outputs": [],
   "source": [
    "RPM=pd.read_csv(\"RPM.csv\", dtype=object)"
   ]
  },
  {
   "cell_type": "code",
   "execution_count": 3,
   "metadata": {
    "collapsed": false
   },
   "outputs": [
    {
     "data": {
      "text/plain": [
       "['\\ufeffDOCUMENT ID',\n",
       " 'RECORD TYPE',\n",
       " 'CRFN',\n",
       " 'BOROUGH',\n",
       " 'DOC. TYPE',\n",
       " 'DOC. DATE',\n",
       " 'DOC. AMOUNT',\n",
       " 'RECORDED / FILED',\n",
       " 'MODIFIED DATE',\n",
       " 'REEL YEAR',\n",
       " 'REEL NBR',\n",
       " 'REEL PAGE',\n",
       " '% TRANSFERRED',\n",
       " 'GOOD THROUGH DATE']"
      ]
     },
     "execution_count": 3,
     "metadata": {},
     "output_type": "execute_result"
    }
   ],
   "source": [
    "list(RPM)"
   ]
  },
  {
   "cell_type": "code",
   "execution_count": 4,
   "metadata": {
    "collapsed": false
   },
   "outputs": [
    {
     "data": {
      "text/html": [
       "<div>\n",
       "<table border=\"1\" class=\"dataframe\">\n",
       "  <thead>\n",
       "    <tr style=\"text-align: right;\">\n",
       "      <th></th>\n",
       "      <th>﻿DOCUMENT ID</th>\n",
       "      <th>RECORD TYPE</th>\n",
       "      <th>CRFN</th>\n",
       "      <th>BOROUGH</th>\n",
       "      <th>DOC. TYPE</th>\n",
       "      <th>DOC. DATE</th>\n",
       "      <th>DOC. AMOUNT</th>\n",
       "      <th>RECORDED / FILED</th>\n",
       "      <th>MODIFIED DATE</th>\n",
       "      <th>REEL YEAR</th>\n",
       "      <th>REEL NBR</th>\n",
       "      <th>REEL PAGE</th>\n",
       "      <th>% TRANSFERRED</th>\n",
       "      <th>GOOD THROUGH DATE</th>\n",
       "    </tr>\n",
       "  </thead>\n",
       "  <tbody>\n",
       "    <tr>\n",
       "      <th>0</th>\n",
       "      <td>2005061701931001</td>\n",
       "      <td>A</td>\n",
       "      <td>2005000459309</td>\n",
       "      <td>3</td>\n",
       "      <td>DEED</td>\n",
       "      <td>03/06/2003</td>\n",
       "      <td>538000</td>\n",
       "      <td>08/16/2005</td>\n",
       "      <td>08/16/2005</td>\n",
       "      <td>0</td>\n",
       "      <td>0</td>\n",
       "      <td>0</td>\n",
       "      <td>100</td>\n",
       "      <td>07/31/2015</td>\n",
       "    </tr>\n",
       "    <tr>\n",
       "      <th>1</th>\n",
       "      <td>2008071100380001</td>\n",
       "      <td>A</td>\n",
       "      <td>2008000286740</td>\n",
       "      <td>1</td>\n",
       "      <td>ASST</td>\n",
       "      <td>07/03/2008</td>\n",
       "      <td>0</td>\n",
       "      <td>07/18/2008</td>\n",
       "      <td>07/18/2008</td>\n",
       "      <td>0</td>\n",
       "      <td>0</td>\n",
       "      <td>0</td>\n",
       "      <td>0</td>\n",
       "      <td>07/31/2015</td>\n",
       "    </tr>\n",
       "    <tr>\n",
       "      <th>2</th>\n",
       "      <td>FT_1150000333415</td>\n",
       "      <td>A</td>\n",
       "      <td>NaN</td>\n",
       "      <td>1</td>\n",
       "      <td>MTGE</td>\n",
       "      <td>NaN</td>\n",
       "      <td>25300</td>\n",
       "      <td>02/20/1990</td>\n",
       "      <td>02/20/1990</td>\n",
       "      <td>1990</td>\n",
       "      <td>1668</td>\n",
       "      <td>1077</td>\n",
       "      <td>0</td>\n",
       "      <td>07/31/2015</td>\n",
       "    </tr>\n",
       "    <tr>\n",
       "      <th>3</th>\n",
       "      <td>2010051901161001</td>\n",
       "      <td>A</td>\n",
       "      <td>2010000208271</td>\n",
       "      <td>1</td>\n",
       "      <td>RPTT&amp;RET</td>\n",
       "      <td>05/20/2010</td>\n",
       "      <td>940000</td>\n",
       "      <td>06/22/2010</td>\n",
       "      <td>06/22/2010</td>\n",
       "      <td>0</td>\n",
       "      <td>0</td>\n",
       "      <td>0</td>\n",
       "      <td>100</td>\n",
       "      <td>07/31/2015</td>\n",
       "    </tr>\n",
       "    <tr>\n",
       "      <th>4</th>\n",
       "      <td>FT_2310004396631</td>\n",
       "      <td>A</td>\n",
       "      <td>NaN</td>\n",
       "      <td>2</td>\n",
       "      <td>SAT</td>\n",
       "      <td>NaN</td>\n",
       "      <td>0</td>\n",
       "      <td>08/15/1994</td>\n",
       "      <td>08/25/1994</td>\n",
       "      <td>1994</td>\n",
       "      <td>1251</td>\n",
       "      <td>303</td>\n",
       "      <td>0</td>\n",
       "      <td>07/31/2015</td>\n",
       "    </tr>\n",
       "  </tbody>\n",
       "</table>\n",
       "</div>"
      ],
      "text/plain": [
       "       ﻿DOCUMENT ID RECORD TYPE           CRFN BOROUGH DOC. TYPE   DOC. DATE  \\\n",
       "0  2005061701931001           A  2005000459309       3      DEED  03/06/2003   \n",
       "1  2008071100380001           A  2008000286740       1      ASST  07/03/2008   \n",
       "2  FT_1150000333415           A            NaN       1      MTGE         NaN   \n",
       "3  2010051901161001           A  2010000208271       1  RPTT&RET  05/20/2010   \n",
       "4  FT_2310004396631           A            NaN       2       SAT         NaN   \n",
       "\n",
       "  DOC. AMOUNT RECORDED / FILED MODIFIED DATE REEL YEAR REEL NBR REEL PAGE  \\\n",
       "0      538000       08/16/2005    08/16/2005         0        0         0   \n",
       "1           0       07/18/2008    07/18/2008         0        0         0   \n",
       "2       25300       02/20/1990    02/20/1990      1990     1668      1077   \n",
       "3      940000       06/22/2010    06/22/2010         0        0         0   \n",
       "4           0       08/15/1994    08/25/1994      1994     1251       303   \n",
       "\n",
       "  % TRANSFERRED GOOD THROUGH DATE  \n",
       "0           100        07/31/2015  \n",
       "1             0        07/31/2015  \n",
       "2             0        07/31/2015  \n",
       "3           100        07/31/2015  \n",
       "4             0        07/31/2015  "
      ]
     },
     "execution_count": 4,
     "metadata": {},
     "output_type": "execute_result"
    }
   ],
   "source": [
    "RPM.head()"
   ]
  },
  {
   "cell_type": "code",
   "execution_count": null,
   "metadata": {
    "collapsed": false
   },
   "outputs": [],
   "source": []
  },
  {
   "cell_type": "code",
   "execution_count": 5,
   "metadata": {
    "collapsed": false
   },
   "outputs": [],
   "source": [
    "RPM['\\ufeffDOCUMENT ID']=RPM['\\ufeffDOCUMENT ID'].str.replace(',', '')\n",
    "RPM['RECORD TYPE']=RPM['RECORD TYPE'].str.replace(',', '')\n",
    "RPM['CRFN']=RPM['CRFN'].str.replace(',', '')\n",
    "RPM['BOROUGH']=RPM['BOROUGH'].str.replace(',', '')\n",
    "RPM['DOC. TYPE']=RPM['DOC. TYPE'].str.replace(',', '')\n",
    "RPM['DOC. DATE']=RPM['DOC. DATE'].str.replace(',', '')\n",
    "RPM['DOC. AMOUNT']=RPM['DOC. AMOUNT'].str.replace(',', '')\n",
    "RPM['RECORDED / FILED']=RPM['RECORDED / FILED'].str.replace(',', '')\n",
    "RPM['MODIFIED DATE']=RPM['MODIFIED DATE'].str.replace(',', '')\n",
    "RPM['REEL YEAR']=RPM['REEL YEAR'].str.replace(',', '')\n",
    "RPM['REEL NBR']=RPM['REEL NBR'].str.replace(',', '')\n",
    "RPM['REEL PAGE']=RPM['REEL PAGE'].str.replace(',', '')\n",
    "RPM['% TRANSFERRED']=RPM['% TRANSFERRED'].str.replace(',', '')\n",
    "RPM['GOOD THROUGH DATE']=RPM['GOOD THROUGH DATE'].str.replace(',', '')"
   ]
  },
  {
   "cell_type": "code",
   "execution_count": null,
   "metadata": {
    "collapsed": true
   },
   "outputs": [],
   "source": []
  },
  {
   "cell_type": "code",
   "execution_count": 6,
   "metadata": {
    "collapsed": false
   },
   "outputs": [
    {
     "name": "stdout",
     "output_type": "stream",
     "text": [
      "hello\n"
     ]
    }
   ],
   "source": [
    "print(\"hello\")"
   ]
  },
  {
   "cell_type": "code",
   "execution_count": 7,
   "metadata": {
    "collapsed": true
   },
   "outputs": [],
   "source": [
    "RPM.to_csv(\"RPM_clean.csv\", dtype=object)"
   ]
  },
  {
   "cell_type": "code",
   "execution_count": null,
   "metadata": {
    "collapsed": true
   },
   "outputs": [],
   "source": []
  }
 ],
 "metadata": {
  "kernelspec": {
   "display_name": "Python 3",
   "language": "python",
   "name": "python3"
  },
  "language_info": {
   "codemirror_mode": {
    "name": "ipython",
    "version": 3
   },
   "file_extension": ".py",
   "mimetype": "text/x-python",
   "name": "python",
   "nbconvert_exporter": "python",
   "pygments_lexer": "ipython3",
   "version": "3.5.1"
  }
 },
 "nbformat": 4,
 "nbformat_minor": 0
}

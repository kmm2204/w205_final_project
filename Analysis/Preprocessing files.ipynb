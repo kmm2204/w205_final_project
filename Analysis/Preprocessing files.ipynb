{
 "cells": [
  {
   "cell_type": "code",
   "execution_count": 66,
   "metadata": {
    "collapsed": true
   },
   "outputs": [],
   "source": [
    "import pandas as pd\n",
    "import json\n",
    "import re\n",
    "import numpy as np"
   ]
  },
  {
   "cell_type": "code",
   "execution_count": null,
   "metadata": {
    "collapsed": true
   },
   "outputs": [],
   "source": []
  },
  {
   "cell_type": "code",
   "execution_count": 67,
   "metadata": {
    "collapsed": true
   },
   "outputs": [],
   "source": [
    "def better_preprocessor(s):\n",
    "    s = re.sub(r\"[_%#:+.!-;]\", r\"\", s)\n",
    "    return s"
   ]
  },
  {
   "cell_type": "code",
   "execution_count": 68,
   "metadata": {
    "collapsed": false
   },
   "outputs": [],
   "source": [
    "RPP=pd.read_csv(\"ACRIS_RPP.csv\", dtype=object)\n",
    "\n"
   ]
  },
  {
   "cell_type": "code",
   "execution_count": null,
   "metadata": {
    "collapsed": true
   },
   "outputs": [],
   "source": []
  },
  {
   "cell_type": "code",
   "execution_count": 69,
   "metadata": {
    "collapsed": false
   },
   "outputs": [
    {
     "data": {
      "text/plain": [
       "DOCUMENT ID          object\n",
       "RECORD TYPE          object\n",
       "PARTY TYPE           object\n",
       "NAME                 object\n",
       "ADDRESS 1            object\n",
       "ADDRESS 2            object\n",
       "COUNTRY              object\n",
       "CITY                 object\n",
       "STATE                object\n",
       "ZIP                  object\n",
       "GOOD THROUGH DATE    object\n",
       "dtype: object"
      ]
     },
     "execution_count": 69,
     "metadata": {},
     "output_type": "execute_result"
    }
   ],
   "source": [
    "RPP.dtypes"
   ]
  },
  {
   "cell_type": "code",
   "execution_count": 70,
   "metadata": {
    "collapsed": false
   },
   "outputs": [],
   "source": [
    "RPP['DOCUMENT ID']=RPP['DOCUMENT ID'].str.replace(',', '')\n",
    "RPP['RECORD TYPE']=RPP['RECORD TYPE'].str.replace(',', '')\n",
    "RPP['PARTY TYPE']=RPP['PARTY TYPE'].str.replace(',', '')\n",
    "RPP['NAME']=RPP['NAME'].str.replace(',', '')\n",
    "RPP['ADDRESS 1']=RPP['ADDRESS 1'].str.replace(',', '')\n",
    "RPP['ADDRESS 2']=RPP['ADDRESS 2'].str.replace(',', '')\n",
    "RPP['COUNTRY']=RPP['COUNTRY'].str.replace(',', '')\n",
    "RPP['CITY']=RPP['CITY'].str.replace(',', '')\n",
    "RPP['STATE']=RPP['STATE'].str.replace(',', '')\n",
    "RPP['ZIP']=RPP['ZIP'].str.replace(',', '')\n",
    "RPP['GOOD THROUGH DATE']=RPP['GOOD THROUGH DATE'].str.replace(',', '')\n",
    "\n"
   ]
  },
  {
   "cell_type": "code",
   "execution_count": 71,
   "metadata": {
    "collapsed": false
   },
   "outputs": [],
   "source": [
    "RPP.to_csv(\"RPP_clean.csv\")"
   ]
  },
  {
   "cell_type": "code",
   "execution_count": null,
   "metadata": {
    "collapsed": true
   },
   "outputs": [],
   "source": []
  },
  {
   "cell_type": "code",
   "execution_count": null,
   "metadata": {
    "collapsed": false
   },
   "outputs": [],
   "source": []
  },
  {
   "cell_type": "code",
   "execution_count": null,
   "metadata": {
    "collapsed": false
   },
   "outputs": [],
   "source": [
    "\n",
    "\n"
   ]
  },
  {
   "cell_type": "code",
   "execution_count": null,
   "metadata": {
    "collapsed": true
   },
   "outputs": [],
   "source": []
  },
  {
   "cell_type": "code",
   "execution_count": null,
   "metadata": {
    "collapsed": true
   },
   "outputs": [],
   "source": []
  }
 ],
 "metadata": {
  "kernelspec": {
   "display_name": "Python 3",
   "language": "python",
   "name": "python3"
  },
  "language_info": {
   "codemirror_mode": {
    "name": "ipython",
    "version": 3
   },
   "file_extension": ".py",
   "mimetype": "text/x-python",
   "name": "python",
   "nbconvert_exporter": "python",
   "pygments_lexer": "ipython3",
   "version": "3.5.1"
  }
 },
 "nbformat": 4,
 "nbformat_minor": 0
}

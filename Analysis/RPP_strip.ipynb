{
 "cells": [
  {
   "cell_type": "code",
   "execution_count": 1,
   "metadata": {
    "collapsed": true
   },
   "outputs": [],
   "source": [
    "import pandas as pd"
   ]
  },
  {
   "cell_type": "code",
   "execution_count": 2,
   "metadata": {
    "collapsed": false
   },
   "outputs": [],
   "source": [
    "RPP=pd.read_csv(\"ACRIS_-_Real_Property_Parties.csv\", dtype=object)"
   ]
  },
  {
   "cell_type": "code",
   "execution_count": 7,
   "metadata": {
    "collapsed": false
   },
   "outputs": [
    {
     "data": {
      "text/plain": [
       "['DOCUMENT ID',\n",
       " 'RECORD TYPE',\n",
       " 'PARTY TYPE',\n",
       " 'NAME',\n",
       " 'ADDRESS 1',\n",
       " 'ADDRESS 2',\n",
       " 'COUNTRY',\n",
       " 'CITY',\n",
       " 'STATE',\n",
       " 'ZIP',\n",
       " 'GOOD THROUGH DATE']"
      ]
     },
     "execution_count": 7,
     "metadata": {},
     "output_type": "execute_result"
    }
   ],
   "source": [
    "list(RPP)"
   ]
  },
  {
   "cell_type": "code",
   "execution_count": 4,
   "metadata": {
    "collapsed": false
   },
   "outputs": [],
   "source": [
    "RPP['DOCUMENT ID']=RPP['DOCUMENT ID'].str.replace(',', '')\n",
    "RPP['RECORD TYPE']=RPP['RECORD TYPE'].str.replace(',', '')\n",
    "RPP['PARTY TYPE']=RPP['PARTY TYPE'].str.replace(',', '')\n",
    "RPP['NAME']=RPP['NAME'].str.replace(',', '')\n",
    "RPP['ADDRESS 1']=RPP['ADDRESS 1'].str.replace(',', '')\n",
    "RPP['ADDRESS 2']=RPP['ADDRESS 2'].str.replace(',', '')\n",
    "RPP['COUNTRY']=RPP['COUNTRY'].str.replace(',', '')\n",
    "RPP['CITY']=RPP['CITY'].str.replace(',', '')\n",
    "RPP['STATE']=RPP['STATE'].str.replace(',', '')\n",
    "RPP['ZIP']=RPP['ZIP'].str.replace(',', '')\n",
    "RPP['GOOD THROUGH DATE']=RPP['GOOD THROUGH DATE'].str.replace(',', '')"
   ]
  },
  {
   "cell_type": "code",
   "execution_count": 10,
   "metadata": {
    "collapsed": false
   },
   "outputs": [],
   "source": [
    "RPP.to_csv(\"RPP_clean.csv\")"
   ]
  }
 ],
 "metadata": {
  "kernelspec": {
   "display_name": "Python 3",
   "language": "python",
   "name": "python3"
  },
  "language_info": {
   "codemirror_mode": {
    "name": "ipython",
    "version": 3
   },
   "file_extension": ".py",
   "mimetype": "text/x-python",
   "name": "python",
   "nbconvert_exporter": "python",
   "pygments_lexer": "ipython3",
   "version": "3.5.1"
  }
 },
 "nbformat": 4,
 "nbformat_minor": 0
}

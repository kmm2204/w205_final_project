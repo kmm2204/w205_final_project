{
 "cells": [
  {
   "cell_type": "code",
   "execution_count": 2,
   "metadata": {
    "collapsed": true
   },
   "outputs": [],
   "source": [
    "import pandas as pd\n",
    "import json\n",
    "import re\n",
    "import numpy as np\n",
    "import matplotlib as plt\n"
   ]
  },
  {
   "cell_type": "code",
   "execution_count": 29,
   "metadata": {
    "collapsed": false
   },
   "outputs": [],
   "source": [
    "\n",
    "\n",
    "Tpm=pd.read_csv(\"real_property_master_trump.csv\", \n",
    "                          names = [\"docid\", \"recordtype\", \"CRFN\", \"Borough\",\"doctype\", \"docdate\", \n",
    "                                   \"docamount\",\"recordedfiled\", \"modifieddate\",\"reelyear\",\"reelnbr\",\"reelpage\",\"pcttransferred\",\"goodthroughdate\"\n",
    "                                  ])"
   ]
  },
  {
   "cell_type": "code",
   "execution_count": 30,
   "metadata": {
    "collapsed": false
   },
   "outputs": [
    {
     "data": {
      "text/plain": [
       "docid                int64\n",
       "recordtype          object\n",
       "CRFN                 int64\n",
       "Borough              int64\n",
       "doctype             object\n",
       "docdate             object\n",
       "docamount          float64\n",
       "recordedfiled       object\n",
       "modifieddate        object\n",
       "reelyear             int64\n",
       "reelnbr              int64\n",
       "reelpage             int64\n",
       "pcttransferred       int64\n",
       "goodthroughdate     object\n",
       "dtype: object"
      ]
     },
     "execution_count": 30,
     "metadata": {},
     "output_type": "execute_result"
    }
   ],
   "source": [
    "Tpm.dtypes"
   ]
  },
  {
   "cell_type": "code",
   "execution_count": 10,
   "metadata": {
    "collapsed": false
   },
   "outputs": [
    {
     "data": {
      "text/html": [
       "<div>\n",
       "<table border=\"1\" class=\"dataframe\">\n",
       "  <thead>\n",
       "    <tr style=\"text-align: right;\">\n",
       "      <th></th>\n",
       "      <th>docid</th>\n",
       "      <th>recordtype</th>\n",
       "      <th>CRFN</th>\n",
       "      <th>Borough</th>\n",
       "      <th>doctype</th>\n",
       "      <th>docdate</th>\n",
       "      <th>docamount</th>\n",
       "      <th>recordedfiled</th>\n",
       "      <th>modifieddate</th>\n",
       "      <th>reelyear</th>\n",
       "      <th>reelnbr</th>\n",
       "      <th>reelpage</th>\n",
       "      <th>pcttransferred</th>\n",
       "      <th>goodthroughdate</th>\n",
       "    </tr>\n",
       "  </thead>\n",
       "  <tbody>\n",
       "    <tr>\n",
       "      <th>0</th>\n",
       "      <td>2016101800842001</td>\n",
       "      <td>A</td>\n",
       "      <td>2016000369713</td>\n",
       "      <td>1</td>\n",
       "      <td>TOLCC</td>\n",
       "      <td>2016-10-18</td>\n",
       "      <td>0.0</td>\n",
       "      <td>2016-10-20</td>\n",
       "      <td>2016-10-20</td>\n",
       "      <td>0</td>\n",
       "      <td>0</td>\n",
       "      <td>0</td>\n",
       "      <td>0</td>\n",
       "      <td>2016-10-31</td>\n",
       "    </tr>\n",
       "    <tr>\n",
       "      <th>1</th>\n",
       "      <td>2016110800592001</td>\n",
       "      <td>A</td>\n",
       "      <td>2016000406358</td>\n",
       "      <td>1</td>\n",
       "      <td>RPTT&amp;RET</td>\n",
       "      <td>2016-11-01</td>\n",
       "      <td>187000.0</td>\n",
       "      <td>2016-11-17</td>\n",
       "      <td>2016-11-17</td>\n",
       "      <td>0</td>\n",
       "      <td>0</td>\n",
       "      <td>0</td>\n",
       "      <td>100</td>\n",
       "      <td>2016-11-30</td>\n",
       "    </tr>\n",
       "    <tr>\n",
       "      <th>2</th>\n",
       "      <td>2016110400185005</td>\n",
       "      <td>A</td>\n",
       "      <td>2016000390696</td>\n",
       "      <td>1</td>\n",
       "      <td>PAT</td>\n",
       "      <td>2016-10-25</td>\n",
       "      <td>0.0</td>\n",
       "      <td>2016-11-04</td>\n",
       "      <td>2016-11-04</td>\n",
       "      <td>0</td>\n",
       "      <td>0</td>\n",
       "      <td>0</td>\n",
       "      <td>0</td>\n",
       "      <td>2016-11-30</td>\n",
       "    </tr>\n",
       "    <tr>\n",
       "      <th>3</th>\n",
       "      <td>2016040501244002</td>\n",
       "      <td>A</td>\n",
       "      <td>2016000121692</td>\n",
       "      <td>1</td>\n",
       "      <td>MAPS</td>\n",
       "      <td>2016-03-02</td>\n",
       "      <td>0.0</td>\n",
       "      <td>2016-04-07</td>\n",
       "      <td>2016-04-07</td>\n",
       "      <td>0</td>\n",
       "      <td>0</td>\n",
       "      <td>0</td>\n",
       "      <td>0</td>\n",
       "      <td>2016-04-30</td>\n",
       "    </tr>\n",
       "    <tr>\n",
       "      <th>4</th>\n",
       "      <td>2016020200956001</td>\n",
       "      <td>A</td>\n",
       "      <td>2016000067757</td>\n",
       "      <td>1</td>\n",
       "      <td>PAT</td>\n",
       "      <td>2015-12-17</td>\n",
       "      <td>0.0</td>\n",
       "      <td>2016-02-29</td>\n",
       "      <td>2016-02-29</td>\n",
       "      <td>0</td>\n",
       "      <td>0</td>\n",
       "      <td>0</td>\n",
       "      <td>0</td>\n",
       "      <td>2016-02-29</td>\n",
       "    </tr>\n",
       "  </tbody>\n",
       "</table>\n",
       "</div>"
      ],
      "text/plain": [
       "              docid recordtype           CRFN  Borough   doctype     docdate  \\\n",
       "0  2016101800842001          A  2016000369713        1     TOLCC  2016-10-18   \n",
       "1  2016110800592001          A  2016000406358        1  RPTT&RET  2016-11-01   \n",
       "2  2016110400185005          A  2016000390696        1       PAT  2016-10-25   \n",
       "3  2016040501244002          A  2016000121692        1      MAPS  2016-03-02   \n",
       "4  2016020200956001          A  2016000067757        1       PAT  2015-12-17   \n",
       "\n",
       "   docamount recordedfiled modifieddate  reelyear  reelnbr  reelpage  \\\n",
       "0        0.0    2016-10-20   2016-10-20         0        0         0   \n",
       "1   187000.0    2016-11-17   2016-11-17         0        0         0   \n",
       "2        0.0    2016-11-04   2016-11-04         0        0         0   \n",
       "3        0.0    2016-04-07   2016-04-07         0        0         0   \n",
       "4        0.0    2016-02-29   2016-02-29         0        0         0   \n",
       "\n",
       "   pcttransferred goodthroughdate  \n",
       "0               0      2016-10-31  \n",
       "1             100      2016-11-30  \n",
       "2               0      2016-11-30  \n",
       "3               0      2016-04-30  \n",
       "4               0      2016-02-29  "
      ]
     },
     "execution_count": 10,
     "metadata": {},
     "output_type": "execute_result"
    }
   ],
   "source": [
    "Tpm.head()"
   ]
  },
  {
   "cell_type": "code",
   "execution_count": 11,
   "metadata": {
    "collapsed": false
   },
   "outputs": [
    {
     "data": {
      "text/plain": [
       "array(['TOLCC', 'RPTT&RET', 'PAT', 'MAPS', 'DEED', 'LOCC', 'SAT', 'ADEC',\n",
       "       'MTGE', 'AL&R', 'AGMT', 'PREL', 'REL'], dtype=object)"
      ]
     },
     "execution_count": 11,
     "metadata": {},
     "output_type": "execute_result"
    }
   ],
   "source": [
    "Tpm.doctype.unique()"
   ]
  },
  {
   "cell_type": "code",
   "execution_count": 46,
   "metadata": {
    "collapsed": false
   },
   "outputs": [
    {
     "data": {
      "text/plain": [
       "yearmonth\n",
       "2016-01    14050010.0\n",
       "2016-02           0.0\n",
       "2016-03      750000.0\n",
       "2016-04           0.0\n",
       "2016-05     2032776.0\n",
       "2016-06           0.0\n",
       "2016-07           0.0\n",
       "2016-08      470000.0\n",
       "2016-09           0.0\n",
       "2016-10           0.0\n",
       "2016-11      807000.0\n",
       "2016-12           0.0\n",
       "2017-01    52492560.0\n",
       "2017-02    16143500.0\n",
       "2017-03      465000.0\n",
       "Name: docamount, dtype: float64"
      ]
     },
     "execution_count": 46,
     "metadata": {},
     "output_type": "execute_result"
    }
   ],
   "source": [
    "Tpm.groupby(\"yearmonth\").docamount.sum()"
   ]
  },
  {
   "cell_type": "code",
   "execution_count": 65,
   "metadata": {
    "collapsed": false
   },
   "outputs": [],
   "source": [
    "Tpm[\"yearmonth\"] = Tpm.recordedfiled.str[:7]"
   ]
  },
  {
   "cell_type": "code",
   "execution_count": null,
   "metadata": {
    "collapsed": true
   },
   "outputs": [],
   "source": [
    "#In 2017 there has been a relatively larger number of documnets for "
   ]
  },
  {
   "cell_type": "code",
   "execution_count": 37,
   "metadata": {
    "collapsed": false
   },
   "outputs": [
    {
     "data": {
      "text/plain": [
       "yearmonth\n",
       "2016-01    10\n",
       "2016-02    13\n",
       "2016-03    14\n",
       "2016-04    13\n",
       "2016-05    14\n",
       "2016-06    24\n",
       "2016-07    13\n",
       "2016-08     9\n",
       "2016-09     6\n",
       "2016-10    13\n",
       "2016-11    13\n",
       "2016-12     5\n",
       "2017-01    45\n",
       "2017-02    13\n",
       "2017-03    12\n",
       "dtype: int64"
      ]
     },
     "execution_count": 37,
     "metadata": {},
     "output_type": "execute_result"
    }
   ],
   "source": [
    "Tpm.groupby('yearmonth').size()"
   ]
  },
  {
   "cell_type": "code",
   "execution_count": null,
   "metadata": {
    "collapsed": false
   },
   "outputs": [],
   "source": []
  },
  {
   "cell_type": "code",
   "execution_count": 57,
   "metadata": {
    "collapsed": false
   },
   "outputs": [
    {
     "data": {
      "text/plain": [
       "doctype   yearmonth\n",
       "ADEC      2016-01       1\n",
       "          2016-03       1\n",
       "          2016-04       2\n",
       "AGMT      2017-02       1\n",
       "AL&R      2017-01       1\n",
       "DEED      2016-01       3\n",
       "          2016-02       1\n",
       "          2016-05       3\n",
       "          2016-11       1\n",
       "          2017-01       3\n",
       "          2017-02       1\n",
       "          2017-03       1\n",
       "LOCC      2016-05       2\n",
       "          2016-06       7\n",
       "          2016-08       3\n",
       "          2016-09       1\n",
       "          2016-10       2\n",
       "          2017-01       4\n",
       "          2017-02       1\n",
       "          2017-03       1\n",
       "MAPS      2016-01       1\n",
       "          2016-03       1\n",
       "          2016-04       2\n",
       "          2017-01       1\n",
       "MTGE      2016-03       1\n",
       "          2017-01       1\n",
       "          2017-03       1\n",
       "PAT       2016-01       4\n",
       "          2016-02      10\n",
       "          2016-03       9\n",
       "          2016-04       8\n",
       "          2016-05       8\n",
       "          2016-06      17\n",
       "          2016-07      12\n",
       "          2016-08       4\n",
       "          2016-09       4\n",
       "          2016-10      10\n",
       "          2016-11      10\n",
       "          2016-12       5\n",
       "          2017-01      13\n",
       "          2017-02       7\n",
       "          2017-03       9\n",
       "PREL      2017-02       1\n",
       "REL       2017-02       1\n",
       "RPTT&RET  2016-05       1\n",
       "          2016-08       1\n",
       "          2016-11       1\n",
       "          2017-01      21\n",
       "          2017-02       1\n",
       "SAT       2016-04       1\n",
       "          2016-07       1\n",
       "          2017-01       1\n",
       "TOLCC     2016-01       1\n",
       "          2016-02       2\n",
       "          2016-03       2\n",
       "          2016-08       1\n",
       "          2016-09       1\n",
       "          2016-10       1\n",
       "          2016-11       1\n",
       "dtype: int64"
      ]
     },
     "execution_count": 57,
     "metadata": {},
     "output_type": "execute_result"
    }
   ],
   "source": [
    "Tpm.groupby([\"doctype\",\"yearmonth\"]).size()"
   ]
  },
  {
   "cell_type": "code",
   "execution_count": null,
   "metadata": {
    "collapsed": true
   },
   "outputs": [],
   "source": []
  },
  {
   "cell_type": "code",
   "execution_count": 40,
   "metadata": {
    "collapsed": false
   },
   "outputs": [
    {
     "data": {
      "text/plain": [
       "Borough\n",
       "1    185\n",
       "2      8\n",
       "3     13\n",
       "4     11\n",
       "dtype: int64"
      ]
     },
     "execution_count": 40,
     "metadata": {},
     "output_type": "execute_result"
    }
   ],
   "source": [
    "Tpm.groupby(\"Borough\").size()"
   ]
  },
  {
   "cell_type": "code",
   "execution_count": null,
   "metadata": {
    "collapsed": true
   },
   "outputs": [],
   "source": []
  }
 ],
 "metadata": {
  "kernelspec": {
   "display_name": "Python 3",
   "language": "python",
   "name": "python3"
  },
  "language_info": {
   "codemirror_mode": {
    "name": "ipython",
    "version": 3
   },
   "file_extension": ".py",
   "mimetype": "text/x-python",
   "name": "python",
   "nbconvert_exporter": "python",
   "pygments_lexer": "ipython3",
   "version": "3.5.1"
  }
 },
 "nbformat": 4,
 "nbformat_minor": 0
}
